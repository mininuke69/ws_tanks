{
 "cells": [
  {
   "cell_type": "markdown",
   "metadata": {},
   "source": [
    "# plan for the server\n",
    "\n",
    "- there will only be one room per server, as we don't plan on making a big game\n",
    "- all players' positions, velocity, bullets and powerups are stored using one variable.\n",
    "- map is stored in a different variable, as a list of tuples: [(x, y, width, height), ...]\n",
    "- bullets and powerups are stored within `game_objects` as the `GameObject` type. This type defines their position using `Rect` and velocity using `Vector`. their type (`\"bullet\"`, ...) is defined by `GameObject.obj_type` and the player who shot the bullet is defined by `GameObject.player`, which is either a player's token or \n",
    "- coordinate system: y+ is down, x+ is right\n",
    "\n",
    "\n",
    "### server ws:\n",
    "messages to the server will look like this:\n",
    "`{\"type\": ..., ...}`\n",
    "where `\"type\"` will be one of the following:\n",
    "`\"map\"`: the client asks the server nicely for the map, server replies with a list of rects like this: `[(x, y, width, height), ...]`\n",
    "`\"spawn\"`: tells the server the client wants to spawn in, the server replies with position. server replies with `{\"x\": ..., \"y\": ...}`\n",
    "`\"update\"`: the client requests their own position and the position and velocity of all the enemy tanks, (and powerups?) they can see. this one comes with optional `\"vy\"` and `\"vx\"`, if the client wants to update their own velocity, otherwise their velocity is not updated, but they still get the enemies update.\n",
    "`\"shoot`: the client fires a bullet, in a direction, which is a vector. example: `{\"type\": \"shoot\", \"x\": 0.6, \"y\": 0.4}`. direction can be normalized, but this is done server-side too. "
   ]
  },
  {
   "cell_type": "markdown",
   "metadata": {},
   "source": [
    "### client visualisation\n",
    "different libraries can be used to visualise the data the client has, depending on your needs.\n",
    "\n",
    "#### pygame\n",
    "pygame can be used to create a client for a human to play the game. even though the goal of this project is bots competing against each other, this can be used to quickly test the working of the server, to showcase the concept to others or to play man vs machine.\n",
    "\n",
    "#### turtle\n",
    "even though very simplistic, the turtle library can still be used to visualise the game. the `shape()` function can be used to draw rectangles that are the walls and turtles can represent the enemy tanks. please note that this library can be slow at times. if it is, use `turtle.Screen.tracer(0)` and `turtle.Screen.update()` to draw the scenario in frames instead.\n",
    "\n",
    "#### processing_py\n",
    "this is a library that uses Java to draw to it's window. Even though it has functions that are very easy to work with, it lack support for any sort of events (clicking or pressing buttons). It is very suitable for just visualising what your bot is doing and debugging it, but it can't be used to let a human control the bot."
   ]
  }
 ],
 "metadata": {
  "language_info": {
   "name": "python"
  }
 },
 "nbformat": 4,
 "nbformat_minor": 2
}
